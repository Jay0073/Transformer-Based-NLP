{
 "cells": [
  {
   "cell_type": "markdown",
   "metadata": {},
   "source": [
    "# Domain-Specific Token Classification Model"
   ]
  },
  {
   "cell_type": "code",
   "execution_count": 1,
   "metadata": {},
   "outputs": [
    {
     "name": "stdout",
     "output_type": "stream",
     "text": [
      "Collecting transformers\n",
      "  Downloading transformers-4.49.0-py3-none-any.whl.metadata (44 kB)\n",
      "Requirement already satisfied: filelock in c:\\users\\voutl\\onedrive\\documents\\projects\\transformer-based nlp\\.venv\\lib\\site-packages (from transformers) (3.17.0)\n",
      "Requirement already satisfied: huggingface-hub<1.0,>=0.26.0 in c:\\users\\voutl\\onedrive\\documents\\projects\\transformer-based nlp\\.venv\\lib\\site-packages (from transformers) (0.29.1)\n",
      "Requirement already satisfied: numpy>=1.17 in c:\\users\\voutl\\onedrive\\documents\\projects\\transformer-based nlp\\.venv\\lib\\site-packages (from transformers) (2.1.3)\n",
      "Requirement already satisfied: packaging>=20.0 in c:\\users\\voutl\\onedrive\\documents\\projects\\transformer-based nlp\\.venv\\lib\\site-packages (from transformers) (24.2)\n",
      "Requirement already satisfied: pyyaml>=5.1 in c:\\users\\voutl\\onedrive\\documents\\projects\\transformer-based nlp\\.venv\\lib\\site-packages (from transformers) (6.0.2)\n",
      "Collecting regex!=2019.12.17 (from transformers)\n",
      "  Downloading regex-2024.11.6-cp312-cp312-win_amd64.whl.metadata (41 kB)\n",
      "Requirement already satisfied: requests in c:\\users\\voutl\\onedrive\\documents\\projects\\transformer-based nlp\\.venv\\lib\\site-packages (from transformers) (2.32.3)\n",
      "Collecting tokenizers<0.22,>=0.21 (from transformers)\n",
      "  Downloading tokenizers-0.21.0-cp39-abi3-win_amd64.whl.metadata (6.9 kB)\n",
      "Collecting safetensors>=0.4.1 (from transformers)\n",
      "  Downloading safetensors-0.5.3-cp38-abi3-win_amd64.whl.metadata (3.9 kB)\n",
      "Requirement already satisfied: tqdm>=4.27 in c:\\users\\voutl\\onedrive\\documents\\projects\\transformer-based nlp\\.venv\\lib\\site-packages (from transformers) (4.67.1)\n",
      "Requirement already satisfied: fsspec>=2023.5.0 in c:\\users\\voutl\\onedrive\\documents\\projects\\transformer-based nlp\\.venv\\lib\\site-packages (from huggingface-hub<1.0,>=0.26.0->transformers) (2025.2.0)\n",
      "Requirement already satisfied: typing-extensions>=3.7.4.3 in c:\\users\\voutl\\onedrive\\documents\\projects\\transformer-based nlp\\.venv\\lib\\site-packages (from huggingface-hub<1.0,>=0.26.0->transformers) (4.12.2)\n",
      "Requirement already satisfied: colorama in c:\\users\\voutl\\onedrive\\documents\\projects\\transformer-based nlp\\.venv\\lib\\site-packages (from tqdm>=4.27->transformers) (0.4.6)\n",
      "Requirement already satisfied: charset-normalizer<4,>=2 in c:\\users\\voutl\\onedrive\\documents\\projects\\transformer-based nlp\\.venv\\lib\\site-packages (from requests->transformers) (3.4.1)\n",
      "Requirement already satisfied: idna<4,>=2.5 in c:\\users\\voutl\\onedrive\\documents\\projects\\transformer-based nlp\\.venv\\lib\\site-packages (from requests->transformers) (3.10)\n",
      "Requirement already satisfied: urllib3<3,>=1.21.1 in c:\\users\\voutl\\onedrive\\documents\\projects\\transformer-based nlp\\.venv\\lib\\site-packages (from requests->transformers) (2.3.0)\n",
      "Requirement already satisfied: certifi>=2017.4.17 in c:\\users\\voutl\\onedrive\\documents\\projects\\transformer-based nlp\\.venv\\lib\\site-packages (from requests->transformers) (2025.1.31)\n",
      "Downloading transformers-4.49.0-py3-none-any.whl (10.0 MB)\n",
      "   ---------------------------------------- 0.0/10.0 MB ? eta -:--:--\n",
      "   ---------------------------------------- 0.0/10.0 MB ? eta -:--:--\n",
      "   ---------------------------------------- 0.0/10.0 MB ? eta -:--:--\n",
      "   ---------------------------------------- 0.0/10.0 MB ? eta -:--:--\n",
      "   - -------------------------------------- 0.3/10.0 MB ? eta -:--:--\n",
      "   -- ------------------------------------- 0.5/10.0 MB 882.6 kB/s eta 0:00:11\n",
      "   -- ------------------------------------- 0.5/10.0 MB 882.6 kB/s eta 0:00:11\n",
      "   -- ------------------------------------- 0.5/10.0 MB 882.6 kB/s eta 0:00:11\n",
      "   --- ------------------------------------ 0.8/10.0 MB 645.7 kB/s eta 0:00:15\n",
      "   ---- ----------------------------------- 1.0/10.0 MB 774.8 kB/s eta 0:00:12\n",
      "   ----- ---------------------------------- 1.3/10.0 MB 799.2 kB/s eta 0:00:11\n",
      "   ----- ---------------------------------- 1.3/10.0 MB 799.2 kB/s eta 0:00:11\n",
      "   ------- -------------------------------- 1.8/10.0 MB 853.4 kB/s eta 0:00:10\n",
      "   -------- ------------------------------- 2.1/10.0 MB 910.7 kB/s eta 0:00:09\n",
      "   -------- ------------------------------- 2.1/10.0 MB 910.7 kB/s eta 0:00:09\n",
      "   --------- ------------------------------ 2.4/10.0 MB 889.0 kB/s eta 0:00:09\n",
      "   ---------- ----------------------------- 2.6/10.0 MB 926.3 kB/s eta 0:00:08\n",
      "   ----------- ---------------------------- 2.9/10.0 MB 964.5 kB/s eta 0:00:08\n",
      "   ------------ --------------------------- 3.1/10.0 MB 992.3 kB/s eta 0:00:07\n",
      "   ------------ --------------------------- 3.1/10.0 MB 992.3 kB/s eta 0:00:07\n",
      "   ------------- -------------------------- 3.4/10.0 MB 945.2 kB/s eta 0:00:07\n",
      "   -------------- ------------------------- 3.7/10.0 MB 965.1 kB/s eta 0:00:07\n",
      "   ---------------- ----------------------- 4.2/10.0 MB 1.0 MB/s eta 0:00:06\n",
      "   ---------------- ----------------------- 4.2/10.0 MB 1.0 MB/s eta 0:00:06\n",
      "   ---------------- ----------------------- 4.2/10.0 MB 1.0 MB/s eta 0:00:06\n",
      "   ------------------ --------------------- 4.7/10.0 MB 987.0 kB/s eta 0:00:06\n",
      "   ------------------- -------------------- 5.0/10.0 MB 1.0 MB/s eta 0:00:05\n",
      "   --------------------- ------------------ 5.2/10.0 MB 1.0 MB/s eta 0:00:05\n",
      "   --------------------- ------------------ 5.2/10.0 MB 1.0 MB/s eta 0:00:05\n",
      "   ---------------------- ----------------- 5.5/10.0 MB 998.6 kB/s eta 0:00:05\n",
      "   ----------------------- ---------------- 5.8/10.0 MB 1.0 MB/s eta 0:00:05\n",
      "   ------------------------ --------------- 6.0/10.0 MB 1.0 MB/s eta 0:00:04\n",
      "   ------------------------ --------------- 6.0/10.0 MB 1.0 MB/s eta 0:00:04\n",
      "   ------------------------- -------------- 6.3/10.0 MB 984.4 kB/s eta 0:00:04\n",
      "   ------------------------- -------------- 6.3/10.0 MB 984.4 kB/s eta 0:00:04\n",
      "   --------------------------- ------------ 6.8/10.0 MB 991.6 kB/s eta 0:00:04\n",
      "   ---------------------------- ----------- 7.1/10.0 MB 1.0 MB/s eta 0:00:03\n",
      "   ----------------------------- ---------- 7.3/10.0 MB 1.0 MB/s eta 0:00:03\n",
      "   ------------------------------- -------- 7.9/10.0 MB 1.1 MB/s eta 0:00:02\n",
      "   -------------------------------- ------- 8.1/10.0 MB 1.1 MB/s eta 0:00:02\n",
      "   --------------------------------- ------ 8.4/10.0 MB 1.1 MB/s eta 0:00:02\n",
      "   ---------------------------------- ----- 8.7/10.0 MB 1.1 MB/s eta 0:00:02\n",
      "   ----------------------------------- ---- 8.9/10.0 MB 1.1 MB/s eta 0:00:01\n",
      "   ------------------------------------- -- 9.4/10.0 MB 1.1 MB/s eta 0:00:01\n",
      "   ------------------------------------- -- 9.4/10.0 MB 1.1 MB/s eta 0:00:01\n",
      "   ---------------------------------------  10.0/10.0 MB 1.1 MB/s eta 0:00:01\n",
      "   ---------------------------------------- 10.0/10.0 MB 1.1 MB/s eta 0:00:00\n",
      "Downloading regex-2024.11.6-cp312-cp312-win_amd64.whl (273 kB)\n",
      "Downloading safetensors-0.5.3-cp38-abi3-win_amd64.whl (308 kB)\n",
      "Downloading tokenizers-0.21.0-cp39-abi3-win_amd64.whl (2.4 MB)\n",
      "   ---------------------------------------- 0.0/2.4 MB ? eta -:--:--\n",
      "   ---- ----------------------------------- 0.3/2.4 MB ? eta -:--:--\n",
      "   -------- ------------------------------- 0.5/2.4 MB 1.5 MB/s eta 0:00:02\n",
      "   ----------------- ---------------------- 1.0/2.4 MB 1.7 MB/s eta 0:00:01\n",
      "   --------------------- ------------------ 1.3/2.4 MB 1.7 MB/s eta 0:00:01\n",
      "   -------------------------- ------------- 1.6/2.4 MB 1.6 MB/s eta 0:00:01\n",
      "   ----------------------------------- ---- 2.1/2.4 MB 1.7 MB/s eta 0:00:01\n",
      "   ---------------------------------------- 2.4/2.4 MB 1.7 MB/s eta 0:00:00\n",
      "Installing collected packages: safetensors, regex, tokenizers, transformers\n",
      "Successfully installed regex-2024.11.6 safetensors-0.5.3 tokenizers-0.21.0 transformers-4.49.0\n",
      "Note: you may need to restart the kernel to use updated packages.\n"
     ]
    }
   ],
   "source": [
    "pip install transformers"
   ]
  },
  {
   "cell_type": "code",
   "execution_count": null,
   "metadata": {},
   "outputs": [
    {
     "name": "stderr",
     "output_type": "stream",
     "text": [
      "c:\\Users\\voutl\\OneDrive\\Documents\\Projects\\Transformer-Based NLP\\.venv\\Lib\\site-packages\\tqdm\\auto.py:21: TqdmWarning: IProgress not found. Please update jupyter and ipywidgets. See https://ipywidgets.readthedocs.io/en/stable/user_install.html\n",
      "  from .autonotebook import tqdm as notebook_tqdm\n",
      "c:\\Users\\voutl\\OneDrive\\Documents\\Projects\\Transformer-Based NLP\\.venv\\Lib\\site-packages\\huggingface_hub\\file_download.py:142: UserWarning: `huggingface_hub` cache-system uses symlinks by default to efficiently store duplicated files but your machine does not support them in C:\\Users\\voutl\\.cache\\huggingface\\hub\\models--dbmdz--bert-large-cased-finetuned-conll03-english. Caching files will still work but in a degraded version that might require more space on your disk. This warning can be disabled by setting the `HF_HUB_DISABLE_SYMLINKS_WARNING` environment variable. For more details, see https://huggingface.co/docs/huggingface_hub/how-to-cache#limitations.\n",
      "To support symlinks on Windows, you either need to activate Developer Mode or to run Python as an administrator. In order to activate developer mode, see this article: https://docs.microsoft.com/en-us/windows/apps/get-started/enable-your-device-for-development\n",
      "  warnings.warn(message)\n"
     ]
    }
   ],
   "source": [
    "from transformers import AutoModelForTokenClassification, AutoTokenizer\n",
    "from transformers import pipeline\n",
    "\n",
    "model_name = \"dbmdz/bert-large-cased-finetuned-conll03-english\"\n",
    "tokenizer = AutoTokenizer.from_pretrained(model_name)\n",
    "model = AutoModelForTokenClassification.from_pretrained(model_name)\n",
    "\n",
    "nlp_pipeline = pipeline(\"ner\", model=model, tokenizer=tokenizer)\n",
    "results = nlp_pipeline(\"Hugging Face is based in New York City.\")\n",
    "print(results)\n"
   ]
  },
  {
   "cell_type": "code",
   "execution_count": null,
   "metadata": {},
   "outputs": [],
   "source": [
    "import os\n",
    "import wget\n",
    "\n",
    "# set data path\n",
    "DATA_DIR = \"data/NCBI\"\n",
    "os.makedirs(DATA_DIR, exist_ok=True)"
   ]
  },
  {
   "cell_type": "code",
   "execution_count": null,
   "metadata": {},
   "outputs": [],
   "source": [
    "with open(f'{DATA_DIR}/NCBI_corpus_testing.txt') as f: \n",
    "    sample_text=f.readline()\n",
    "    \n",
    "print(sample_text)"
   ]
  },
  {
   "cell_type": "code",
   "execution_count": null,
   "metadata": {},
   "outputs": [],
   "source": [
    "import re\n",
    "\n",
    "# use regular expression to find labels\n",
    "categories=re.findall('<category.*?<\\/category>', sample_text)\n",
    "for sample in categories: \n",
    "    print(sample)"
   ]
  },
  {
   "cell_type": "code",
   "execution_count": null,
   "metadata": {},
   "outputs": [],
   "source": [
    "NER_DATA_DIR = f'{DATA_DIR}/NER'\n",
    "os.makedirs(os.path.join(DATA_DIR, 'NER'), exist_ok=True)\n",
    "\n",
    "# show downloaded files\n",
    "!ls -lh $NER_DATA_DIR"
   ]
  },
  {
   "cell_type": "code",
   "execution_count": null,
   "metadata": {},
   "outputs": [],
   "source": [
    "# preview dataset\n",
    "!head -n 1 $NER_DATA_DIR/text_train.txt\n",
    "!head -n 1 $NER_DATA_DIR/labels_train.txt"
   ]
  },
  {
   "cell_type": "markdown",
   "metadata": {},
   "source": [
    "configuration file"
   ]
  },
  {
   "cell_type": "code",
   "execution_count": null,
   "metadata": {},
   "outputs": [],
   "source": [
    "# define config path\n",
    "MODEL_CONFIG = \"token_classification_config.yaml\"\n",
    "WORK_DIR = \"WORK_DIR\"\n",
    "os.makedirs(WORK_DIR, exist_ok=True)"
   ]
  },
  {
   "cell_type": "code",
   "execution_count": null,
   "metadata": {},
   "outputs": [],
   "source": [
    "# download the model's configuration file \n",
    "BRANCH = 'main'\n",
    "config_dir = WORK_DIR + '/configs/'\n",
    "os.makedirs(config_dir, exist_ok=True)\n",
    "\n",
    "if not os.path.exists(config_dir + MODEL_CONFIG):\n",
    "    print('Downloading config file...')\n",
    "    wget.download(f'https://raw.githubusercontent.com/NVIDIA/NeMo/{BRANCH}/examples/nlp/token_classification/conf/' + MODEL_CONFIG, config_dir)\n",
    "else:\n",
    "    print ('config file already exists')"
   ]
  },
  {
   "cell_type": "code",
   "execution_count": null,
   "metadata": {},
   "outputs": [],
   "source": [
    "from omegaconf import OmegaConf\n",
    "\n",
    "CONFIG_DIR = \"/dli/task/WORK_DIR/configs\"\n",
    "CONFIG_FILE = \"token_classification_config.yaml\"\n",
    "\n",
    "config=OmegaConf.load(CONFIG_DIR + \"/\" + CONFIG_FILE)\n",
    "\n",
    "# print the entire configuration file\n",
    "print(OmegaConf.to_yaml(config))"
   ]
  },
  {
   "cell_type": "code",
   "execution_count": null,
   "metadata": {},
   "outputs": [],
   "source": [
    "# in this exercise, train and dev datasets are located in the same folder under the default names, \n",
    "# so it is enough to add the path of the data directory to the config\n",
    "config.model.dataset.data_dir = os.path.join(DATA_DIR, 'NER')\n",
    "\n",
    "# print the model section\n",
    "print(OmegaConf.to_yaml(config.model))"
   ]
  },
  {
   "cell_type": "code",
   "execution_count": null,
   "metadata": {},
   "outputs": [],
   "source": [
    "# import dependencies\n",
    "from nemo.collections.nlp.models.language_modeling.megatron_bert_model import MegatronBertModel\n",
    "\n",
    "# list available pre-trained models\n",
    "for model in MegatronBertModel.list_available_models(): \n",
    "    print(model.pretrained_model_name)"
   ]
  },
  {
   "cell_type": "code",
   "execution_count": null,
   "metadata": {},
   "outputs": [],
   "source": [
    "# add the specified above model parameters to the config\n",
    "MODEL_NAME='biomegatron345m_biovocab_30k_cased'\n",
    "# MODEL_NAME='biomegatron-bert-345m-cased'\n",
    "\n",
    "config.model.language_model.lm_checkpoint=None\n",
    "config.model.language_model.pretrained_model_name=MODEL_NAME\n",
    "config.model.tokenizer.tokenizer_name=None\n",
    "\n",
    "# use appropriate configurations based on GPU capacity\n",
    "config.model.dataset_max_seq_length=64\n",
    "config.model.train_ds.batch_size=32\n",
    "config.model.validation_ds.batch_size=32\n",
    "config.model.test_ds.batch_size=32\n",
    "\n",
    "# limit the number of epochs for this demonstration\n",
    "config.trainer.max_epochs=1\n",
    "# config.trainer.precision=16\n",
    "# config.trainer.amp_level='O1'"
   ]
  },
  {
   "cell_type": "code",
   "execution_count": null,
   "metadata": {},
   "outputs": [],
   "source": [
    "# create trainer and model instances\n",
    "from nemo.collections.nlp.models import TokenClassificationModel\n",
    "import pytorch_lightning as pl\n",
    "\n",
    "trainer=pl.Trainer(**config.trainer)\n",
    "ner_model=TokenClassificationModel(cfg=config.model, trainer=trainer)"
   ]
  },
  {
   "cell_type": "code",
   "execution_count": null,
   "metadata": {},
   "outputs": [],
   "source": [
    "# start model training\n",
    "trainer.fit(ner_model)"
   ]
  },
  {
   "cell_type": "code",
   "execution_count": null,
   "metadata": {},
   "outputs": [],
   "source": [
    "# evaluate model performance on sample\n",
    "ner_model.half().evaluate_from_file(\n",
    "    text_file=os.path.join(NER_DATA_DIR, 'sample_text_dev.txt'),\n",
    "    labels_file=os.path.join(NER_DATA_DIR, 'sample_labels_dev.txt'),\n",
    "    output_dir=WORK_DIR,\n",
    "    add_confusion_matrix=True,\n",
    "    normalize_confusion_matrix=True,\n",
    "    batch_size=1\n",
    ")"
   ]
  }
 ],
 "metadata": {
  "kernelspec": {
   "display_name": ".venv",
   "language": "python",
   "name": "python3"
  },
  "language_info": {
   "codemirror_mode": {
    "name": "ipython",
    "version": 3
   },
   "file_extension": ".py",
   "mimetype": "text/x-python",
   "name": "python",
   "nbconvert_exporter": "python",
   "pygments_lexer": "ipython3",
   "version": "3.12.3"
  }
 },
 "nbformat": 4,
 "nbformat_minor": 2
}
